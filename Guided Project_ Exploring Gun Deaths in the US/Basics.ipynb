{
 "cells": [
  {
   "cell_type": "markdown",
   "metadata": {},
   "source": [
    "# Gun Deaths\n",
    "\n",
    "This notebook explores deaths caused by firearms in the United States between 2012 and 2014.\n",
    "\n",
    "We examine the data as compared by race and sex, as well as other criteria.\n",
    "\n",
    "Charts and diagrams will come in later notebooks with Pandas/NumPy/Matlab.  This notebook is purely for showing the ability to summarize data within Python code.\n",
    "\n",
    "Throughout this document, we refer to \"deaths by gun\" simply as deaths to avoid repetition."
   ]
  },
  {
   "cell_type": "markdown",
   "metadata": {},
   "source": [
    "## Purpose\n",
    "\n",
    "This notebook is meant to show a proficiency in Python and a little bit of analysis.  No plots or diagrams are \n",
    "generated, as that is not yet part of the curriculum.  Nor are libraries such as `NumPy` or `pandas` used for the same reason.\n",
    "\n",
    "There are two sources of data used for this notebook:\n",
    "* `guns.csv` - a collection of statistics about various deaths caused by firearms\n",
    "* `census.csv` - a collection of statistics from the 2010 census\n",
    "\n",
    "The structure is as follows:\n",
    "* Loading and counting the various dimensions of data within `guns.csv` file\n",
    "* Some analyses based on the data, particularly by date and race/intent"
   ]
  },
  {
   "cell_type": "markdown",
   "metadata": {},
   "source": [
    "## Loading and Counting"
   ]
  },
  {
   "cell_type": "code",
   "execution_count": 1,
   "metadata": {},
   "outputs": [],
   "source": [
    "import csv\n",
    "\n",
    "f = open('guns.csv', 'r')\n",
    "guns_csv = csv.reader(f)\n",
    "data = list(guns_csv)"
   ]
  },
  {
   "cell_type": "markdown",
   "metadata": {},
   "source": [
    "The first order is to find out what data we have available.  The headers of the CSV should provide an overview what we may analyze."
   ]
  },
  {
   "cell_type": "code",
   "execution_count": 2,
   "metadata": {},
   "outputs": [
    {
     "data": {
      "text/plain": [
       "['',\n",
       " 'year',\n",
       " 'month',\n",
       " 'intent',\n",
       " 'police',\n",
       " 'sex',\n",
       " 'age',\n",
       " 'race',\n",
       " 'hispanic',\n",
       " 'place',\n",
       " 'education']"
      ]
     },
     "execution_count": 2,
     "metadata": {},
     "output_type": "execute_result"
    }
   ],
   "source": [
    "headers = data[0]\n",
    "data = data[1:]\n",
    "headers"
   ]
  },
  {
   "cell_type": "markdown",
   "metadata": {},
   "source": [
    "Here we see the criteria by which we may analyze the various deaths as headers in the individual records.\n",
    "\n",
    "Let's first examine which years we have available and if the total deaths increased or decreased during these years."
   ]
  },
  {
   "cell_type": "markdown",
   "metadata": {},
   "source": [
    "### By Year\n",
    "Has the number of deaths increased or decreased year over year?"
   ]
  },
  {
   "cell_type": "code",
   "execution_count": 17,
   "metadata": {},
   "outputs": [
    {
     "name": "stdout",
     "output_type": "stream",
     "text": [
      "{'2012': 33563, '2013': 33636, '2014': 33599}\n",
      "Difference between 2012 and 2013 deaths: 73 (0.22%)\n",
      "Difference between 2013 and 2014 deaths: -37 (-0.11%)\n"
     ]
    }
   ],
   "source": [
    "years = [gun_death[1] for gun_death in data]\n",
    "year_counts = {}\n",
    "for year in years:\n",
    "    if year in year_counts:\n",
    "        year_counts[year] += 1\n",
    "    else:\n",
    "        year_counts[year] = 1\n",
    "diffs = [year_counts['2013'] - year_counts['2012'], year_counts['2014'] - year_counts['2013']]\n",
    "print(year_counts)\n",
    "print('Difference between 2012 and 2013 deaths: {} ({:.2%})'.format(diffs[0], diffs[0]/year_counts['2012']))\n",
    "print('Difference between 2013 and 2014 deaths: {} ({:.2%})'.format(diffs[1], diffs[1]/year_counts['2013']))"
   ]
  },
  {
   "cell_type": "markdown",
   "metadata": {},
   "source": [
    "The years range between 2012 and 2014.  The number of deaths by gun didn't change much per year between 2012 and 2014, .  The difference between each year is less than a single percent."
   ]
  },
  {
   "cell_type": "markdown",
   "metadata": {},
   "source": [
    "From here, we will summarize much of the data using straight Python (without pandas)."
   ]
  },
  {
   "cell_type": "code",
   "execution_count": 18,
   "metadata": {},
   "outputs": [],
   "source": [
    "import datetime\n",
    "dates = [datetime.datetime(year=int(gun_death[1]), month=int(gun_death[2]), day=1) for gun_death in data]"
   ]
  },
  {
   "cell_type": "markdown",
   "metadata": {},
   "source": [
    "### Gender\n",
    "The division of deaths by gender."
   ]
  },
  {
   "cell_type": "code",
   "execution_count": 28,
   "metadata": {},
   "outputs": [
    {
     "name": "stdout",
     "output_type": "stream",
     "text": [
      "Gender: M Deaths: 86349 (85.665390%)\n",
      "Gender: F Deaths: 14449 (14.334610%)\n"
     ]
    }
   ],
   "source": [
    "gender_counts = {}\n",
    "genders = [gun_death[5] for gun_death in data]\n",
    "gender_total = 0\n",
    "for gender in genders:\n",
    "    if gender in gender_counts:\n",
    "        gender_counts[gender] += 1\n",
    "    else:\n",
    "        gender_counts[gender] = 1\n",
    "    gender_total += 1\n",
    "for gender in gender_counts:\n",
    "    print('Gender: {} Deaths: {} ({:2%})'.format(gender, gender_counts[gender], gender_counts[gender]/gender_total))"
   ]
  },
  {
   "cell_type": "markdown",
   "metadata": {},
   "source": [
    "The number of deaths are primarily men.  Only 15% of the deaths were women."
   ]
  },
  {
   "cell_type": "markdown",
   "metadata": {},
   "source": [
    "### Race\n",
    "The division of deaths by race."
   ]
  },
  {
   "cell_type": "code",
   "execution_count": 30,
   "metadata": {
    "scrolled": true
   },
   "outputs": [
    {
     "name": "stdout",
     "output_type": "stream",
     "text": [
      "Race: Asian/Pacific Islander Deaths: 1326 (1.315502%)\n",
      "Race: White Deaths: 66237 (65.712613%)\n",
      "Race: Native American/Native Alaskan Deaths: 917 (0.909740%)\n",
      "Race: Black Deaths: 23296 (23.111570%)\n",
      "Race: Hispanic Deaths: 9022 (8.950574%)\n"
     ]
    }
   ],
   "source": [
    "race_counts = {}\n",
    "races = [gun_death[7] for gun_death in data]\n",
    "race_total = 0\n",
    "for race in races:\n",
    "    if race in race_counts:\n",
    "        race_counts[race] += 1\n",
    "    else:\n",
    "        race_counts[race] = 1\n",
    "    race_total += 1\n",
    "for race in race_counts:\n",
    "    print('Race: {} Deaths: {} ({:2%})'.format(race, race_counts[race], race_counts[race]/race_total))"
   ]
  },
  {
   "cell_type": "markdown",
   "metadata": {},
   "source": [
    "The number of deaths for each race are not normalized by population ratios.  We will do that below."
   ]
  },
  {
   "cell_type": "markdown",
   "metadata": {},
   "source": [
    "### Intent\n",
    "The `intent` column specifies the motivation for the death, primarily suicide, homicide, or accidental."
   ]
  },
  {
   "cell_type": "code",
   "execution_count": 33,
   "metadata": {},
   "outputs": [
    {
     "name": "stdout",
     "output_type": "stream",
     "text": [
      "Intent: Suicide Deaths: 63175 (62.674855%)\n",
      "Intent: Undetermined Deaths: 807 (0.800611%)\n",
      "Intent: Accidental Deaths: 1639 (1.626024%)\n",
      "Intent: Homicide Deaths: 35176 (34.897518%)\n",
      "Intent: NA Deaths: 1 (0.000992%)\n"
     ]
    }
   ],
   "source": [
    "intent_counts = {}\n",
    "intentions = [gun_death[3] for gun_death in data]\n",
    "intent_total = 0\n",
    "for intent in intentions:\n",
    "    if intent in intent_counts:\n",
    "        intent_counts[intent] += 1\n",
    "    else:\n",
    "        intent_counts[intent] = 1\n",
    "    intent_total += 1\n",
    "for intent in intent_counts:\n",
    "    print('Intent: {} Deaths: {} ({:2%})'.format(intent, intent_counts[intent], intent_counts[intent]/intent_total))"
   ]
  },
  {
   "cell_type": "markdown",
   "metadata": {},
   "source": [
    "We see that suicide is by far the most prevelant, followed by homicide.  Accidental and unaccounted for deaths \n",
    "only make ~3% of the deaths.\n",
    "\n",
    "Unfortunately the data doesn't account for how the detemrinations were made.  It would be a useful exercise to see how the conclusions for intent were determined.  However, it is not likely that such determinations were erroneous enough times to change the percentages significantly.  (There is probably a statistical analysis that can be determined if this is the case, which I hope to learn later in the course.)"
   ]
  },
  {
   "cell_type": "markdown",
   "metadata": {},
   "source": [
    "## Analysis\n",
    "\n",
    "For brevity, this analysis does not include all the dimensions we counted in the section above.  We concentrate on the time of year and deaths by race."
   ]
  },
  {
   "cell_type": "markdown",
   "metadata": {},
   "source": [
    "### Deaths by Month\n",
    "\n",
    "Is there a particular time of year when deaths are more prevelant?\n",
    "\n",
    "Let's examine the average number of deaths per day for each month.  This should give us a good indication and account for the different lengths of each month."
   ]
  },
  {
   "cell_type": "code",
   "execution_count": 40,
   "metadata": {},
   "outputs": [
    {
     "name": "stdout",
     "output_type": "stream",
     "text": [
      "Month: Jan, 2012 Number of deaths per day: 88.97\n",
      "Month: Feb, 2012 Number of deaths per day: 84.18\n",
      "Month: Mar, 2012 Number of deaths per day: 88.48\n",
      "Month: Apr, 2012 Number of deaths per day: 93.17\n",
      "Month: May, 2012 Number of deaths per day: 96.74\n",
      "Month: Jun, 2012 Number of deaths per day: 94.20\n",
      "Month: Jul, 2012 Number of deaths per day: 97.61\n",
      "Month: Aug, 2012 Number of deaths per day: 98.47\n",
      "Month: Sep, 2012 Number of deaths per day: 92.00\n",
      "Month: Oct, 2012 Number of deaths per day: 88.16\n",
      "Month: Nov, 2012 Number of deaths per day: 90.97\n",
      "Month: Dec, 2012 Number of deaths per day: 90.03\n",
      "Month: Jan, 2013 Number of deaths per day: 92.39\n",
      "Month: Feb, 2013 Number of deaths per day: 84.82\n",
      "Month: Mar, 2013 Number of deaths per day: 92.32\n",
      "Month: Apr, 2013 Number of deaths per day: 93.27\n",
      "Month: May, 2013 Number of deaths per day: 90.52\n",
      "Month: Jun, 2013 Number of deaths per day: 97.33\n",
      "Month: Jul, 2013 Number of deaths per day: 99.32\n",
      "Month: Aug, 2013 Number of deaths per day: 95.30\n",
      "Month: Sep, 2013 Number of deaths per day: 88.45\n",
      "Month: Oct, 2013 Number of deaths per day: 90.58\n",
      "Month: Nov, 2013 Number of deaths per day: 91.93\n",
      "Month: Dec, 2013 Number of deaths per day: 89.19\n",
      "Month: Jan, 2014 Number of deaths per day: 85.52\n",
      "Month: Feb, 2014 Number of deaths per day: 84.32\n",
      "Month: Mar, 2014 Number of deaths per day: 86.58\n",
      "Month: Apr, 2014 Number of deaths per day: 95.40\n",
      "Month: May, 2014 Number of deaths per day: 92.39\n",
      "Month: Jun, 2014 Number of deaths per day: 97.70\n",
      "Month: Jul, 2014 Number of deaths per day: 93.03\n",
      "Month: Aug, 2014 Number of deaths per day: 99.00\n",
      "Month: Sep, 2014 Number of deaths per day: 94.00\n",
      "Month: Oct, 2014 Number of deaths per day: 92.42\n",
      "Month: Nov, 2014 Number of deaths per day: 91.87\n",
      "Month: Dec, 2014 Number of deaths per day: 92.16\n"
     ]
    }
   ],
   "source": [
    "deaths_per_day = {}\n",
    "for date in dates:\n",
    "    if date in deaths_per_day:\n",
    "        deaths_per_day[date] += 1\n",
    "    else:\n",
    "        deaths_per_day[date] = 1\n",
    "days_per_month = [31, 28, 31, 30, 31, 30, 31, 30, 31, 31, 30, 31]\n",
    "for key in deaths_per_day:\n",
    "    deaths_per_day[key] = deaths_per_day[key] / days_per_month[key.month - 1]\n",
    "    print('Month: {} Number of deaths per day: {:.2f}'.format(key.strftime('%b, %Y'), deaths_per_day[key]))"
   ]
  },
  {
   "cell_type": "markdown",
   "metadata": {},
   "source": [
    "We see from the data that February is consistently has the fewest deaths per day.\n",
    "\n",
    "The summer months (June, July, and August) have the highest rates.\n",
    "\n",
    "My preliminary hypothesis is that it is related to weather, or more precisely temperature.  People outside perhaps are more likely to die.\n",
    "\n",
    "This doesn't really make sense for suicides though, which make a large portion of deaths.  One would think that winter would be more prevelant due to the season making people sad.\n",
    "\n",
    "There are other associations that could be tested here, but I will not be concentrating on these at this time."
   ]
  },
  {
   "cell_type": "markdown",
   "metadata": {},
   "source": [
    "### Deaths by Type per Race\n",
    "\n",
    "How does each race primarily perish?  Here we measure the percentage of deaths per race by the intent/cause of the death."
   ]
  },
  {
   "cell_type": "code",
   "execution_count": 53,
   "metadata": {},
   "outputs": [
    {
     "name": "stdout",
     "output_type": "stream",
     "text": [
      "Intent:Accidental     Race: Asian/Pacific Islander          Percentage: 0.90%\n",
      "Intent:Accidental     Race: Black                           Percentage: 1.41%\n",
      "Intent:Accidental     Race: Hispanic                        Percentage: 1.61%\n",
      "Intent:Accidental     Race: Native American/Native Alaskan  Percentage: 2.40%\n",
      "Intent:Accidental     Race: White                           Percentage: 1.71%\n",
      "Intent:Homicide       Race: Asian/Pacific Islander          Percentage: 42.16%\n",
      "Intent:Homicide       Race: Black                           Percentage: 83.75%\n",
      "Intent:Homicide       Race: Hispanic                        Percentage: 62.45%\n",
      "Intent:Homicide       Race: Native American/Native Alaskan  Percentage: 35.55%\n",
      "Intent:Homicide       Race: White                           Percentage: 13.81%\n",
      "Intent:NA             Race: White                           Percentage: 0.00%\n",
      "Intent:Suicide        Race: Asian/Pacific Islander          Percentage: 56.18%\n",
      "Intent:Suicide        Race: Black                           Percentage: 14.30%\n",
      "Intent:Suicide        Race: Hispanic                        Percentage: 35.15%\n",
      "Intent:Suicide        Race: Native American/Native Alaskan  Percentage: 60.52%\n",
      "Intent:Suicide        Race: White                           Percentage: 83.60%\n",
      "Intent:Undetermined   Race: Asian/Pacific Islander          Percentage: 0.75%\n",
      "Intent:Undetermined   Race: Black                           Percentage: 0.54%\n",
      "Intent:Undetermined   Race: Hispanic                        Percentage: 0.80%\n",
      "Intent:Undetermined   Race: Native American/Native Alaskan  Percentage: 1.53%\n",
      "Intent:Undetermined   Race: White                           Percentage: 0.88%\n"
     ]
    }
   ],
   "source": [
    "intent_by_race_count = {}\n",
    "intentions_by_race = [(gun_death[3], gun_death[7]) for gun_death in data]\n",
    "for intent in intentions_by_race:\n",
    "    if intent in intent_by_race_count:\n",
    "        intent_by_race_count[intent] += 1\n",
    "    else:\n",
    "        intent_by_race_count[intent] = 1\n",
    "for kv in intent_by_race_count:\n",
    "    intent_by_race_count[kv] = intent_by_race_count[kv] / race_counts[kv[1]]\n",
    "# intent_by_race_count\n",
    "for kv in sorted(intent_by_race_count):\n",
    "    print('Intent:{:<13}  Race: {:<30}  Percentage: {:.2%}'.format(kv[0], kv[1], intent_by_race_count[kv]))"
   ]
  },
  {
   "cell_type": "markdown",
   "metadata": {},
   "source": [
    "Some alarming statistics about suicides:\n",
    "* Suicide accounts for 84% of deaths for whites\n",
    "* Suicide also accounts for more than half of deaths for 'Asian/Pacific Islander' and 'Native American/Native Alaskan' races\n",
    "\n",
    "Just as alarming about homicides:\n",
    "* Homicide accounts for 84% of deaths for blacks\n",
    "* Homicide accounts for 62% of deaths for hispanics\n",
    "* Homicide accounts for 35% of deaths for 'Native American/Native Alaskan'\n",
    "\n",
    "No group perishes mostly by accident, nor are most deaths undetermined.  Death by suicide and homicide accounts for over 95% for each race."
   ]
  },
  {
   "cell_type": "markdown",
   "metadata": {},
   "source": [
    "### Deaths per 100000 per Race\n",
    "\n",
    "How many deaths are there for each race?  Here we measure the number of deaths per 100k people of each race.\n",
    "\n",
    "We take the total population by race from the 2010 census and multiply by the number of deaths by intent for each race to compute the number of deaths per 100k for each intent.\n",
    "\n",
    "This gives us a better understanding of how proportions of deaths."
   ]
  },
  {
   "cell_type": "code",
   "execution_count": 57,
   "metadata": {},
   "outputs": [
    {
     "name": "stdout",
     "output_type": "stream",
     "text": [
      "Race: Asian/Pacific Islander          Percentage: 8.37\n",
      "Race: White                           Percentage: 33.57\n",
      "Race: Native American/Native Alaskan  Percentage: 24.52\n",
      "Race: Black                           Percentage: 57.88\n",
      "Race: Hispanic                        Percentage: 20.22\n"
     ]
    }
   ],
   "source": [
    "c = open('census.csv', 'r')\n",
    "census_csv = csv.reader(c)\n",
    "census = list(census_csv)\n",
    "mapping = {\n",
    "    'Asian/Pacific Islander': int(census[1][14]) + int(census[1][15]),\n",
    "    'Black': int(census[1][12]),\n",
    "    'Native American/Native Alaskan': int(census[1][13]),\n",
    "    'Hispanic': int(census[1][11]),\n",
    "    'White': int(census[1][10])\n",
    "}\n",
    "race_per_hundredk = {}\n",
    "for race in race_counts:\n",
    "    race_per_hundredk[race] = race_counts[race] / mapping[race] * 100000\n",
    "    print('Race: {:<30}  Per capita (100k): {:.2f}'.format(race, race_per_hundredk[race]))"
   ]
  },
  {
   "cell_type": "markdown",
   "metadata": {
    "collapsed": true
   },
   "source": [
    "From this analysis, we see that there are by far more deaths per 100k for Blacks, followed by Whites, Native Americans, Hispanic, and Asian/Pacific Islanders.\n",
    "\n",
    "The difference between the highest race, Blacks, is about 75% higher than the second highest race, Whites.\n",
    "\n",
    "It might be worth exploring why there is such a discrepancy between the races.  Is it cultural, social, economic, or just coincidence?"
   ]
  },
  {
   "cell_type": "markdown",
   "metadata": {},
   "source": [
    "### Deaths per 100,000 by Race and Intent\n",
    "\n",
    "Here we combine analysis of the number of deaths per 100k by race and the number of deaths by race and intent.\n",
    "\n",
    "We calculate this by multiplying the number of deaths by race per 100k and the percentage of deaths per race by intent."
   ]
  },
  {
   "cell_type": "code",
   "execution_count": 60,
   "metadata": {},
   "outputs": [
    {
     "name": "stdout",
     "output_type": "stream",
     "text": [
      "Intent:Suicide        Race: Asian/Pacific Islander          Per capita (100k): 4.71\n",
      "Intent:Suicide        Race: White                           Per capita (100k): 28.06\n",
      "Intent:Suicide        Race: Native American/Native Alaskan  Per capita (100k): 14.84\n",
      "Intent:Undetermined   Race: White                           Per capita (100k): 0.30\n",
      "Intent:Accidental     Race: White                           Per capita (100k): 0.57\n",
      "Intent:Suicide        Race: Black                           Per capita (100k): 8.28\n",
      "Intent:Homicide       Race: White                           Per capita (100k): 4.64\n",
      "Intent:Homicide       Race: Asian/Pacific Islander          Per capita (100k): 3.53\n",
      "Intent:Homicide       Race: Black                           Per capita (100k): 48.47\n",
      "Intent:Homicide       Race: Native American/Native Alaskan  Per capita (100k): 8.72\n",
      "Intent:Undetermined   Race: Native American/Native Alaskan  Per capita (100k): 0.37\n",
      "Intent:Accidental     Race: Black                           Per capita (100k): 0.81\n",
      "Intent:Accidental     Race: Hispanic                        Per capita (100k): 0.32\n",
      "Intent:Suicide        Race: Hispanic                        Per capita (100k): 7.11\n",
      "Intent:Homicide       Race: Hispanic                        Per capita (100k): 12.63\n",
      "Intent:Undetermined   Race: Black                           Per capita (100k): 0.31\n",
      "Intent:Undetermined   Race: Hispanic                        Per capita (100k): 0.16\n",
      "Intent:Accidental     Race: Asian/Pacific Islander          Per capita (100k): 0.08\n",
      "Intent:Accidental     Race: Native American/Native Alaskan  Per capita (100k): 0.59\n",
      "Intent:Undetermined   Race: Asian/Pacific Islander          Per capita (100k): 0.06\n",
      "Intent:NA             Race: White                           Per capita (100k): 0.00\n"
     ]
    }
   ],
   "source": [
    "c = open('census.csv', 'r')\n",
    "census_csv = csv.reader(c)\n",
    "census = list(census_csv)\n",
    "mapping = {\n",
    "    'Asian/Pacific Islander': int(census[1][14]) + int(census[1][15]),\n",
    "    'Black': int(census[1][12]),\n",
    "    'Native American/Native Alaskan': int(census[1][13]),\n",
    "    'Hispanic': int(census[1][11]),\n",
    "    'White': int(census[1][10])\n",
    "}\n",
    "race_per_hundredk = {}\n",
    "for race in race_counts:\n",
    "    race_per_hundredk[race] = race_counts[race] / mapping[race] * 100000\n",
    "\n",
    "# use already processed data\n",
    "intent_race_100k = {}\n",
    "for intent_race in intent_by_race_count:\n",
    "    intent = intent_race[0]\n",
    "    race = intent_race[1]\n",
    "    intent_race_100k[intent_race] = intent_by_race_count[intent_race] * race_per_hundredk[race]\n",
    "    print('Intent:{:<13}  Race: {:<30}  Per capita (100k): {:.2f}'.format(intent_race[0], intent_race[1], intent_race_100k[intent_race]))\n",
    "# intent_race_100k"
   ]
  },
  {
   "cell_type": "markdown",
   "metadata": {},
   "source": [
    "This analysis is a combination of the deaths per 100k and also the ratios of deaths by race.  It proves instructive to show that we can use existing data and reformat it for new expressions for the information as necessary."
   ]
  },
  {
   "cell_type": "markdown",
   "metadata": {},
   "source": [
    "## Conclusion\n",
    "\n",
    "Homicide and suicide are the primary causes of gun deaths.  Accidents only make a very small percentage.\n",
    "\n",
    "Whites primarily perish by suicide, where as Blacks perish primarily by homicide.  Blacks in particular suffer far more deaths per capita by homicide than any other race, 4x the next highest race, Hispanic.\n",
    "\n",
    "Data and analysis such as this can reveal much about where to put more resources for studying causes and where subsequent efforts may be applied to maximum effect.\n"
   ]
  },
  {
   "cell_type": "code",
   "execution_count": null,
   "metadata": {
    "collapsed": true
   },
   "outputs": [],
   "source": []
  }
 ],
 "metadata": {
  "kernelspec": {
   "display_name": "Python 3",
   "language": "python",
   "name": "python3"
  },
  "language_info": {
   "codemirror_mode": {
    "name": "ipython",
    "version": 3
   },
   "file_extension": ".py",
   "mimetype": "text/x-python",
   "name": "python",
   "nbconvert_exporter": "python",
   "pygments_lexer": "ipython3",
   "version": "3.6.4"
  }
 },
 "nbformat": 4,
 "nbformat_minor": 1
}
