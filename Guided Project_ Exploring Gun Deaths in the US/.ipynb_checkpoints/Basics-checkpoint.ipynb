{
 "cells": [
  {
   "cell_type": "markdown",
   "metadata": {},
   "source": [
    "# Gun Deaths\n",
    "\n",
    "This notebook explores deaths caused by firearms in the United States between 2012 and 2014.\n",
    "\n",
    "We examine the data as compared by race and sex, as well as other criteria.\n",
    "\n",
    "Charts and diagrams will come in later notebooks with Pandas/NumPy/Matlab.  This notebook is purely for showing the ability to summarize data within Python code.\n",
    "\n",
    "Throughout this document, we refer to \"deaths by gun\" simply as deaths to avoid repetition.\n",
    "\n",
    "(I make no judgements about the circumstances of these deaths other than to say that any preventable, premature death is sad.)\n",
    "\n",
    "## Loading and Counting"
   ]
  },
  {
   "cell_type": "code",
   "execution_count": 12,
   "metadata": {
    "collapsed": false
   },
   "outputs": [],
   "source": [
    "import csv\n",
    "\n",
    "f = open('guns.csv', 'r')\n",
    "guns_csv = csv.reader(f)\n",
    "data = list(guns_csv)"
   ]
  },
  {
   "cell_type": "markdown",
   "metadata": {},
   "source": [
    "The first order is to find out what data we have available.  The headers of the CSV should provide an overview what we may analyze."
   ]
  },
  {
   "cell_type": "code",
   "execution_count": 13,
   "metadata": {
    "collapsed": false
   },
   "outputs": [
    {
     "data": {
      "text/plain": [
       "['',\n",
       " 'year',\n",
       " 'month',\n",
       " 'intent',\n",
       " 'police',\n",
       " 'sex',\n",
       " 'age',\n",
       " 'race',\n",
       " 'hispanic',\n",
       " 'place',\n",
       " 'education']"
      ]
     },
     "execution_count": 13,
     "metadata": {},
     "output_type": "execute_result"
    }
   ],
   "source": [
    "headers = data[0]\n",
    "data = data[1:]\n",
    "headers"
   ]
  },
  {
   "cell_type": "markdown",
   "metadata": {},
   "source": [
    "Here we see the criteria by which we may analyze the various deaths as headers in the individual records.\n",
    "\n",
    "Let's first examine if the total deaths increased or decreased during these years."
   ]
  },
  {
   "cell_type": "code",
   "execution_count": 14,
   "metadata": {
    "collapsed": false
   },
   "outputs": [
    {
     "data": {
      "text/plain": [
       "{'2012': 33563, '2013': 33636, '2014': 33599}"
      ]
     },
     "execution_count": 14,
     "metadata": {},
     "output_type": "execute_result"
    }
   ],
   "source": [
    "years = [gun_death[1] for gun_death in data]\n",
    "year_counts = {}\n",
    "for year in years:\n",
    "    if year in year_counts:\n",
    "        year_counts[year] += 1\n",
    "    else:\n",
    "        year_counts[year] = 1\n",
    "year_counts"
   ]
  },
  {
   "cell_type": "markdown",
   "metadata": {},
   "source": [
    "The number of deaths by gun didn't change much per year between 2012 and 2014."
   ]
  },
  {
   "cell_type": "markdown",
   "metadata": {},
   "source": [
    "From here, we will summarize much of the data using straight Python (without pandas)."
   ]
  },
  {
   "cell_type": "code",
   "execution_count": 15,
   "metadata": {
    "collapsed": true
   },
   "outputs": [],
   "source": [
    "import datetime\n",
    "dates = [datetime.datetime(year=int(gun_death[1]), month=int(gun_death[2]), day=1) for gun_death in data]"
   ]
  },
  {
   "cell_type": "code",
   "execution_count": 16,
   "metadata": {
    "collapsed": false
   },
   "outputs": [],
   "source": [
    "date_counts = {}\n",
    "for date in dates:\n",
    "    if date in date_counts:\n",
    "        date_counts[date] += 1\n",
    "    else:\n",
    "        date_counts[date] = 1"
   ]
  },
  {
   "cell_type": "code",
   "execution_count": 17,
   "metadata": {
    "collapsed": false
   },
   "outputs": [
    {
     "data": {
      "text/plain": [
       "{'F': 14449, 'M': 86349}"
      ]
     },
     "execution_count": 17,
     "metadata": {},
     "output_type": "execute_result"
    }
   ],
   "source": [
    "sex_counts = {}\n",
    "sexes = [gun_death[5] for gun_death in data]\n",
    "for sex in sexes:\n",
    "    if sex in sex_counts:\n",
    "        sex_counts[sex] += 1\n",
    "    else:\n",
    "        sex_counts[sex] = 1\n",
    "sex_counts"
   ]
  },
  {
   "cell_type": "code",
   "execution_count": 18,
   "metadata": {
    "collapsed": false
   },
   "outputs": [
    {
     "data": {
      "text/plain": [
       "{'Asian/Pacific Islander': 1326,\n",
       " 'Black': 23296,\n",
       " 'Hispanic': 9022,\n",
       " 'Native American/Native Alaskan': 917,\n",
       " 'White': 66237}"
      ]
     },
     "execution_count": 18,
     "metadata": {},
     "output_type": "execute_result"
    }
   ],
   "source": [
    "race_counts = {}\n",
    "races = [gun_death[7] for gun_death in data]\n",
    "for race in races:\n",
    "    if race in race_counts:\n",
    "        race_counts[race] += 1\n",
    "    else:\n",
    "        race_counts[race] = 1\n",
    "race_counts"
   ]
  },
  {
   "cell_type": "code",
   "execution_count": 19,
   "metadata": {
    "collapsed": false
   },
   "outputs": [
    {
     "data": {
      "text/plain": [
       "{'Accidental': 1639,\n",
       " 'Homicide': 35176,\n",
       " 'NA': 1,\n",
       " 'Suicide': 63175,\n",
       " 'Undetermined': 807}"
      ]
     },
     "execution_count": 19,
     "metadata": {},
     "output_type": "execute_result"
    }
   ],
   "source": [
    "intent_counts = {}\n",
    "intentions = [gun_death[3] for gun_death in data]\n",
    "for intent in intentions:\n",
    "    if intent in intent_counts:\n",
    "        intent_counts[intent] += 1\n",
    "    else:\n",
    "        intent_counts[intent] = 1\n",
    "intent_counts"
   ]
  },
  {
   "cell_type": "markdown",
   "metadata": {},
   "source": [
    "## Analysis\n",
    "\n",
    "This section is where we start are real analysis."
   ]
  },
  {
   "cell_type": "markdown",
   "metadata": {},
   "source": [
    "### Deaths by Month\n",
    "\n",
    "Is there a particular time of year when deaths are more prevelant?\n",
    "\n",
    "Let's examine the average number of deaths per day for each month.  This should give us a good indication and account for the different lengths of each month."
   ]
  },
  {
   "cell_type": "code",
   "execution_count": null,
   "metadata": {
    "collapsed": false
   },
   "outputs": [
    {
     "data": {
      "text/plain": [
       "{datetime.datetime(2012, 1, 1, 0, 0): 88.96774193548387,\n",
       " datetime.datetime(2012, 2, 1, 0, 0): 84.17857142857143,\n",
       " datetime.datetime(2012, 3, 1, 0, 0): 88.48387096774194,\n",
       " datetime.datetime(2012, 4, 1, 0, 0): 93.16666666666667,\n",
       " datetime.datetime(2012, 5, 1, 0, 0): 96.74193548387096,\n",
       " datetime.datetime(2012, 6, 1, 0, 0): 94.2,\n",
       " datetime.datetime(2012, 7, 1, 0, 0): 97.61290322580645,\n",
       " datetime.datetime(2012, 8, 1, 0, 0): 98.46666666666667,\n",
       " datetime.datetime(2012, 9, 1, 0, 0): 92.0,\n",
       " datetime.datetime(2012, 10, 1, 0, 0): 88.16129032258064,\n",
       " datetime.datetime(2012, 11, 1, 0, 0): 90.96666666666667,\n",
       " datetime.datetime(2012, 12, 1, 0, 0): 90.03225806451613,\n",
       " datetime.datetime(2013, 1, 1, 0, 0): 92.38709677419355,\n",
       " datetime.datetime(2013, 2, 1, 0, 0): 84.82142857142857,\n",
       " datetime.datetime(2013, 3, 1, 0, 0): 92.3225806451613,\n",
       " datetime.datetime(2013, 4, 1, 0, 0): 93.26666666666667,\n",
       " datetime.datetime(2013, 5, 1, 0, 0): 90.51612903225806,\n",
       " datetime.datetime(2013, 6, 1, 0, 0): 97.33333333333333,\n",
       " datetime.datetime(2013, 7, 1, 0, 0): 99.3225806451613,\n",
       " datetime.datetime(2013, 8, 1, 0, 0): 95.3,\n",
       " datetime.datetime(2013, 9, 1, 0, 0): 88.45161290322581,\n",
       " datetime.datetime(2013, 10, 1, 0, 0): 90.58064516129032,\n",
       " datetime.datetime(2013, 11, 1, 0, 0): 91.93333333333334,\n",
       " datetime.datetime(2013, 12, 1, 0, 0): 89.19354838709677,\n",
       " datetime.datetime(2014, 1, 1, 0, 0): 85.51612903225806,\n",
       " datetime.datetime(2014, 2, 1, 0, 0): 84.32142857142857,\n",
       " datetime.datetime(2014, 3, 1, 0, 0): 86.58064516129032,\n",
       " datetime.datetime(2014, 4, 1, 0, 0): 95.4,\n",
       " datetime.datetime(2014, 5, 1, 0, 0): 92.38709677419355,\n",
       " datetime.datetime(2014, 6, 1, 0, 0): 97.7,\n",
       " datetime.datetime(2014, 7, 1, 0, 0): 93.03225806451613,\n",
       " datetime.datetime(2014, 8, 1, 0, 0): 99.0,\n",
       " datetime.datetime(2014, 9, 1, 0, 0): 94.0,\n",
       " datetime.datetime(2014, 10, 1, 0, 0): 92.41935483870968,\n",
       " datetime.datetime(2014, 11, 1, 0, 0): 91.86666666666666,\n",
       " datetime.datetime(2014, 12, 1, 0, 0): 92.16129032258064}"
      ]
     },
     "execution_count": 20,
     "metadata": {},
     "output_type": "execute_result"
    }
   ],
   "source": [
    "deaths_per_day = {}\n",
    "for date in dates:\n",
    "    if date in deaths_per_day:\n",
    "        deaths_per_day[date] += 1\n",
    "    else:\n",
    "        deaths_per_day[date] = 1\n",
    "days_per_month = [31, 28, 31, 30, 31, 30, 31, 30, 31, 31, 30, 31]\n",
    "for key in deaths_per_day:\n",
    "    deaths_per_day[key] = deaths_per_day[key] / days_per_month[key.month - 1]\n",
    "deaths_per_day"
   ]
  },
  {
   "cell_type": "markdown",
   "metadata": {},
   "source": [
    "We see from the data that February is consistently has the fewest deaths per day.\n",
    "\n",
    "The summer months (June, July, and August) have the highest rates.\n",
    "\n",
    "My preliminary hypothesis is that it is related to weather, or more precisely temperature.  People outside perhaps are more prevelant to death by firearm.\n",
    "\n",
    "This doesn't really make sense for suicides though, which make a large portion of deaths.  One would think that winter would be more prevelant due to the season making people sad."
   ]
  },
  {
   "cell_type": "markdown",
   "metadata": {},
   "source": [
    "### Deaths by Type per Race\n",
    "\n",
    "How does each race primarily perish?"
   ]
  },
  {
   "cell_type": "code",
   "execution_count": null,
   "metadata": {
    "collapsed": false
   },
   "outputs": [],
   "source": [
    "intent_by_race_count = {}\n",
    "intentions_by_race = [(gun_death[3], gun_death[7]) for gun_death in data]\n",
    "for intent in intentions_by_race:\n",
    "    if intent in intent_by_race_count:\n",
    "        intent_by_race_count[intent] += 1\n",
    "    else:\n",
    "        intent_by_race_count[intent] = 1\n",
    "for kv in intent_by_race_count:\n",
    "    intent_by_race_count[kv] = intent_by_race_count[kv] / race_counts[kv[1]]\n",
    "intent_by_race_count"
   ]
  },
  {
   "cell_type": "markdown",
   "metadata": {},
   "source": [
    "Some alarming statistics about suicides:\n",
    "* Suicide accounts for 83% of deaths for whites\n",
    "* Suicide also accounts for more than half of deaths for 'Asian/Pacific Islander' and 'Native American/Native Alaskan' races\n",
    "\n",
    "About homicides:\n",
    "* Homicide accounts for 84% of deaths for blacks\n",
    "* Homicide accounts for 62% of deaths for hispanics\n",
    "* Homicide accounts for 35% of deaths for 'Native American/Native Alaskan'\n",
    "\n",
    "No group perishes mostly by accident, nor are most deaths undetermined.  Each race's death by suicide and homicide accounts for over 95% for each race."
   ]
  },
  {
   "cell_type": "markdown",
   "metadata": {},
   "source": [
    "### Deaths per 100000 per Race\n",
    "\n",
    "Which race has more death per capita?  Here we measure the number of deaths per 100k people of each race.\n",
    "\n",
    "We take the total population by race from the 2010 census."
   ]
  },
  {
   "cell_type": "code",
   "execution_count": 25,
   "metadata": {
    "collapsed": false
   },
   "outputs": [
    {
     "data": {
      "text/plain": [
       "{'Asian/Pacific Islander': 8.374309664161762,\n",
       " 'Black': 57.8773477735196,\n",
       " 'Hispanic': 20.220491210910907,\n",
       " 'Native American/Native Alaskan': 24.521955573811088,\n",
       " 'White': 33.56849303419181}"
      ]
     },
     "execution_count": 25,
     "metadata": {},
     "output_type": "execute_result"
    }
   ],
   "source": [
    "c = open('census.csv', 'r')\n",
    "census_csv = csv.reader(c)\n",
    "census = list(census_csv)\n",
    "mapping = {\n",
    "    'Asian/Pacific Islander': int(census[1][14]) + int(census[1][15]),\n",
    "    'Black': int(census[1][12]),\n",
    "    'Native American/Native Alaskan': int(census[1][13]),\n",
    "    'Hispanic': int(census[1][11]),\n",
    "    'White': int(census[1][10])\n",
    "}\n",
    "race_per_hundredk = {}\n",
    "for race in race_counts:\n",
    "    race_per_hundredk[race] = race_counts[race] / mapping[race] * 100000\n",
    "race_per_hundredk"
   ]
  },
  {
   "cell_type": "markdown",
   "metadata": {
    "collapsed": true
   },
   "source": [
    "From this analysis, we see that there are by far more deaths for Blacks, followed by Whites, Nnative Americans, Hispanic, and Asian/Pacific Islanders.\n",
    "\n",
    "The difference between the highest race, Blacks, is about 75% higher than the second highest race, Whites.\n",
    "\n",
    "It might be worth exploring why there is such a discrepancy between the races.  Is it cultural or social, or is it coincidence?"
   ]
  },
  {
   "cell_type": "markdown",
   "metadata": {},
   "source": [
    "### Deaths per 100k by Race and Intent\n",
    "\n",
    "Here we combine analysis of the number of deaths per 100k by race and the number of deaths by race and intent."
   ]
  },
  {
   "cell_type": "code",
   "execution_count": 27,
   "metadata": {
    "collapsed": false
   },
   "outputs": [
    {
     "data": {
      "text/plain": [
       "{('Accidental', 'Asian/Pacific Islander'): 0.07578560782046845,\n",
       " ('Accidental', 'Black'): 0.8148939762068351,\n",
       " ('Accidental', 'Hispanic'): 0.32498018461339856,\n",
       " ('Accidental', 'Native American/Native Alaskan'): 0.5883130017708221,\n",
       " ('Accidental', 'White'): 0.5736904466492312,\n",
       " ('Homicide', 'Asian/Pacific Islander'): 3.5303462309701548,\n",
       " ('Homicide', 'Black'): 48.47128498718095,\n",
       " ('Homicide', 'Hispanic'): 12.627161104219914,\n",
       " ('Homicide', 'Native American/Native Alaskan'): 8.717729026240365,\n",
       " ('Homicide', 'White'): 4.635641798145334,\n",
       " ('NA', 'White'): 0.00050679368078554,\n",
       " ('Suicide', 'Asian/Pacific Islander'): 4.705023152187415,\n",
       " ('Suicide', 'Black'): 8.278130270491385,\n",
       " ('Suicide', 'Hispanic'): 7.10698045109715,\n",
       " ('Suicide', 'Native American/Native Alaskan'): 14.841532544673013,\n",
       " ('Suicide', 'White'): 28.06217969245692,\n",
       " ('Undetermined', 'Asian/Pacific Islander'): 0.0631546731837237,\n",
       " ('Undetermined', 'Black'): 0.31303853964043055,\n",
       " ('Undetermined', 'Hispanic'): 0.16136947098044618,\n",
       " ('Undetermined', 'Native American/Native Alaskan'): 0.3743810011268868,\n",
       " ('Undetermined', 'White'): 0.2964743032595409}"
      ]
     },
     "execution_count": 27,
     "metadata": {},
     "output_type": "execute_result"
    }
   ],
   "source": [
    "c = open('census.csv', 'r')\n",
    "census_csv = csv.reader(c)\n",
    "census = list(census_csv)\n",
    "mapping = {\n",
    "    'Asian/Pacific Islander': int(census[1][14]) + int(census[1][15]),\n",
    "    'Black': int(census[1][12]),\n",
    "    'Native American/Native Alaskan': int(census[1][13]),\n",
    "    'Hispanic': int(census[1][11]),\n",
    "    'White': int(census[1][10])\n",
    "}\n",
    "race_per_hundredk = {}\n",
    "for race in race_counts:\n",
    "    race_per_hundredk[race] = race_counts[race] / mapping[race] * 100000\n",
    "\n",
    "# use already processed data\n",
    "intent_race_100k = {}\n",
    "for intent_race in intent_by_race_count:\n",
    "    intent = intent_race[0]\n",
    "    race = intent_race[1]\n",
    "    intent_race_100k[intent_race] = intent_by_race_count[intent_race] * race_per_hundredk[race]\n",
    "intent_race_100k"
   ]
  },
  {
   "cell_type": "markdown",
   "metadata": {},
   "source": [
    "To be honest, this analysis isn't particularly revelatory, considering we already have the deaths per 100k and also the ratios of deaths by race, but it proves instructive to show that we can use existing data and reformat it for new expressions for the information as necessary."
   ]
  },
  {
   "cell_type": "markdown",
   "metadata": {},
   "source": [
    "## Conclusion\n",
    "\n",
    "The general conclusion that homicide and suicide are the primary causes of death by firearms.\n",
    "\n",
    "Whites priarily perish by suicide, where as Blacks perish primarily by homicide.  Black in particular suffer far more deaths per capita by homicide than any other race, 4x the next highest race, Hispanic.\n",
    "\n",
    "Data such as this can reveal much about where social efforts may be applied to maximum effect.\n"
   ]
  },
  {
   "cell_type": "code",
   "execution_count": null,
   "metadata": {
    "collapsed": true
   },
   "outputs": [],
   "source": []
  }
 ],
 "metadata": {
  "kernelspec": {
   "display_name": "Python 3",
   "language": "python",
   "name": "python3"
  },
  "language_info": {
   "codemirror_mode": {
    "name": "ipython",
    "version": 3
   },
   "file_extension": ".py",
   "mimetype": "text/x-python",
   "name": "python",
   "nbconvert_exporter": "python",
   "pygments_lexer": "ipython3",
   "version": "3.4.3"
  }
 },
 "nbformat": 4,
 "nbformat_minor": 0
}
